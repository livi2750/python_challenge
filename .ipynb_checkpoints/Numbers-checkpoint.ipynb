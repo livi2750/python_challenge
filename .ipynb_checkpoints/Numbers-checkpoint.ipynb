{
 "cells": [
  {
   "cell_type": "code",
   "execution_count": 9,
   "id": "f8a88e40",
   "metadata": {},
   "outputs": [
    {
     "name": "stdout",
     "output_type": "stream",
     "text": [
      "Hi welcome and let's compute your tax!\n",
      "\n",
      "Can you let me know your total cost? : 10\n",
      "Now let me know your country pecentage tax : .1\n",
      "Sorry please enter only valid whole numbers\n",
      "Now let me know your country pecentage tax : a\n",
      "Sorry please enter only valid whole numbers\n",
      "Now let me know your country pecentage tax : 10\n",
      "\n",
      "Thank you for waiting, your tax value is: 1.0\n"
     ]
    }
   ],
   "source": [
    "# how about a tax calculator\n",
    "# ask user tax value and total cost\n",
    "\n",
    "print(\"Hi welcome and let's compute your tax!\\n\")\n",
    "not_cost = True\n",
    "not_percent = True\n",
    "while(not_cost):\n",
    "    try:\n",
    "        cost = int(input(\"Can you let me know your total cost? : \"))\n",
    "        not_cost = False\n",
    "    except:\n",
    "        print(\"Sorry it's not a valid number try again.\")\n",
    "\n",
    "while(not_percent):\n",
    "    try:\n",
    "        tax_percentage = int(input(\"Now let me know your country pecentage tax : \"))\n",
    "        if(tax_percentage <0):\n",
    "            print(\"Sorry please enter only valid whole numbers\")\n",
    "        else:\n",
    "            not_percent = False\n",
    "    except:\n",
    "        print(\"Sorry please enter only valid whole numbers\")\n",
    "\n",
    "tax_value = cost * (tax_percentage/100)\n",
    "print(f'\\nThank you for waiting, your tax value is: {tax_value}')\n"
   ]
  },
  {
   "cell_type": "code",
   "execution_count": 16,
   "id": "2e95df96",
   "metadata": {},
   "outputs": [
    {
     "name": "stdout",
     "output_type": "stream",
     "text": [
      "How many times do you want to simulate a coin toss? : 20\n",
      "heads\n",
      "heads\n",
      "tails\n",
      "heads\n",
      "tails\n",
      "tails\n",
      "heads\n",
      "heads\n",
      "heads\n",
      "tails\n",
      "tails\n",
      "heads\n",
      "tails\n",
      "tails\n",
      "heads\n",
      "tails\n",
      "heads\n",
      "tails\n",
      "tails\n",
      "heads\n",
      "\n",
      " DONE! with total of 10 heads and 10 tails\n"
     ]
    }
   ],
   "source": [
    "# simulate a coin toss:\n",
    "import random\n",
    "\n",
    "times=True\n",
    "while(times):\n",
    "    try:\n",
    "        \n",
    "        sim_times = int(input('How many times do you want to simulate a coin toss? : '))\n",
    "        if(sim_times <1):\n",
    "            print(\"Please input a valid whole number.\")\n",
    "        else:\n",
    "            times = False\n",
    "    except:\n",
    "        print(\"Please input a valid whole number.\")\n",
    "\n",
    "head_count=0\n",
    "tail_count=0\n",
    "while(sim_times>0):\n",
    "    toss = random.randint(1,2)\n",
    "    if(toss == 1):\n",
    "        print(\"heads\")\n",
    "        sim_times -= 1\n",
    "        head_count += 1\n",
    "    else:\n",
    "        print(\"tails\")\n",
    "        sim_times -= 1\n",
    "        tail_count += 1\n",
    "\n",
    "print(\"\\nDONE! with total of {} heads and {} tails\".format(head_count, tail_count))\n",
    "        "
   ]
  },
  {
   "cell_type": "code",
   "execution_count": null,
   "id": "ecb1a6e9",
   "metadata": {},
   "outputs": [],
   "source": []
  }
 ],
 "metadata": {
  "kernelspec": {
   "display_name": "Python 3 (ipykernel)",
   "language": "python",
   "name": "python3"
  },
  "language_info": {
   "codemirror_mode": {
    "name": "ipython",
    "version": 3
   },
   "file_extension": ".py",
   "mimetype": "text/x-python",
   "name": "python",
   "nbconvert_exporter": "python",
   "pygments_lexer": "ipython3",
   "version": "3.9.7"
  }
 },
 "nbformat": 4,
 "nbformat_minor": 5
}
