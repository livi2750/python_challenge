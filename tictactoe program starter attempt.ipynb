{
 "cells": [
  {
   "cell_type": "markdown",
   "metadata": {},
   "source": [
    "- Ask first player to choose his/her symbol (O or X)\n",
    "- Display board\n",
    "- Enter a number of choice to place move\n",
    "- Update display board\n",
    "- Make second player enter choice of his/her move\n",
    "- If winner exist congratulate\n",
    "\n",
    "\n",
    "---bts---\n",
    "- how many moves per player\n",
    "- check remaining moves\n",
    "- check winner if moves done above 3\n",
    "\n",
    "\n"
   ]
  },
  {
   "cell_type": "code",
   "execution_count": 2,
   "metadata": {},
   "outputs": [],
   "source": [
    "from IPython.display import clear_output\n",
    "clear_output()"
   ]
  },
  {
   "cell_type": "code",
   "execution_count": 3,
   "metadata": {},
   "outputs": [],
   "source": [
    "#diplays/refreshes board depends on the move\n",
    "board = ['1','2','3','4', '5','6','7','8','9']\n",
    "\n",
    "def display_board():\n",
    "    print(board[0:3])\n",
    "    print(board[3:6])\n",
    "    print(board[6:9])\n",
    "   \n"
   ]
  },
  {
   "cell_type": "code",
   "execution_count": 4,
   "metadata": {},
   "outputs": [],
   "source": [
    "#refresh board\n",
    "def update_board(move=0,player_symbol=' '):\n",
    "    \n",
    "    board[move-1] =  player_symbol\n",
    "    print(board[0:3])\n",
    "    print(board[3:6])\n",
    "    print(board[6:9])\n",
    "    \n",
    "    return board"
   ]
  },
  {
   "cell_type": "code",
   "execution_count": 5,
   "metadata": {},
   "outputs": [],
   "source": [
    "#ask for first players symbol\n",
    "\n",
    "def choose_your_symbol():\n",
    "    accepted_symbols =['X','O']\n",
    "    valid = False\n",
    "    while not valid:\n",
    "        symbol_choice = input('Player one input your symbol choice [X / O]: ').upper()\n",
    "        if symbol_choice in accepted_symbols:\n",
    "            valid = True\n",
    "            player_one_symbol= symbol_choice\n",
    "        else:\n",
    "            print('Sorry must choose from O and X only')\n",
    "    \n",
    "    return player_one_symbol"
   ]
  },
  {
   "cell_type": "code",
   "execution_count": 6,
   "metadata": {},
   "outputs": [],
   "source": [
    "#get player move also check if valid as input and on board\n",
    "\n",
    "\n",
    "def players_move(player):\n",
    "    display_board() #call display every move\n",
    "    player_move=''\n",
    "    valid_move = False\n",
    "    while not valid_move:\n",
    "        player_move= input(f'Player {player} please enter your move: ')\n",
    "        \n",
    "        if(not player_move.isdigit() or player_move not in board):\n",
    "            print('Sorry not a valid move!')\n",
    "            continue\n",
    "        \n",
    "        \n",
    "        valid_move = True\n",
    "        \n",
    "    clear_output()\n",
    "        \n",
    "    return player_move\n",
    "        "
   ]
  },
  {
   "cell_type": "code",
   "execution_count": 7,
   "metadata": {},
   "outputs": [],
   "source": [
    "#is there a winner\n",
    "def winner_check(player_moves):\n",
    "    checker = ''.join(moves for moves in player_moves)\n",
    "            \n",
    "    possible_wins=['111000000','000111000','000000111','100010001','001010100','100100100','010010010','001001001']\n",
    "    \n",
    "    if checker in possible_wins:\n",
    "        print('We have a winner')\n",
    "        return True\n",
    "    else:\n",
    "        return False\n",
    "    \n",
    "    \n",
    "    \n",
    "    \n",
    "    "
   ]
  },
  {
   "cell_type": "code",
   "execution_count": 8,
   "metadata": {},
   "outputs": [
    {
     "name": "stdout",
     "output_type": "stream",
     "text": [
      "['X', 'O', 'X']\n",
      "['O', 'X', 'X']\n",
      "['O', 'X', 'O']\n",
      "No Winners it's a DRAW\n"
     ]
    }
   ],
   "source": [
    "#let the game begin:\n",
    "\n",
    "print('Welcome to a tictactoe of two human players!')\n",
    "print()\n",
    "\n",
    "winner=False\n",
    "draw=False\n",
    "x_moves=['0','0','0','0','0','0','0','0','0']\n",
    "o_moves=['0','0','0','0','0','0','0','0','0']\n",
    "\n",
    "player= choose_your_symbol()\n",
    "#player_two_symbol=''\n",
    "#if player == 'X':\n",
    "#    player_two_symbol == 'O'\n",
    "moves_done=0\n",
    "while not winner:\n",
    "    \n",
    "    #update_board(players_move(player))\n",
    "    \n",
    "    #check player and check win\n",
    "    if player=='X':\n",
    "        move=int(players_move('X'))\n",
    "        \n",
    "        x_moves[move-1]='1'\n",
    "        \n",
    "        update_board(move,'X')\n",
    "        \n",
    "        winner = winner_check(x_moves)\n",
    "        \n",
    "        if(winner):\n",
    "            print('Player X is the winner! Congrats!!!')\n",
    "\n",
    "        player='O'\n",
    "        moves_done+= 1\n",
    "        \n",
    "    else:\n",
    "       # o_moves+=players_move('O')\n",
    "        move=int(players_move('O'))\n",
    "        \n",
    "        o_moves[move-1]='1'\n",
    "        \n",
    "        update_board(move,'O')\n",
    "        \n",
    "        winner = winner_check(o_moves)\n",
    "        \n",
    "        if(winner==True):\n",
    "            print('Player 0 is the winner! Congrats!!!')\n",
    "\n",
    "        player='X'\n",
    "        moves_done+=1\n",
    "        \n",
    "    if moves_done==9:\n",
    "        print('No Winners it\\'s a DRAW')\n",
    "        draw = True\n",
    "        break\n",
    "\n",
    "   # print('winner value: ',winner)\n",
    "   # print(f'these are x : {x_moves}')\n",
    "    \n",
    "   # print(f'these are o : {o_moves}')\n",
    "    \n",
    "\n",
    "    \n",
    "\n",
    "#resetboard after game\n",
    "board = ['1','2','3','4', '5','6','7','8','9']\n",
    "\n"
   ]
  },
  {
   "cell_type": "markdown",
   "metadata": {},
   "source": []
  },
  {
   "cell_type": "code",
   "execution_count": 42,
   "metadata": {},
   "outputs": [
    {
     "data": {
      "text/plain": [
       "False"
      ]
     },
     "execution_count": 42,
     "metadata": {},
     "output_type": "execute_result"
    }
   ],
   "source": []
  },
  {
   "cell_type": "code",
   "execution_count": 9,
   "metadata": {},
   "outputs": [
    {
     "name": "stdout",
     "output_type": "stream",
     "text": [
      "['1', '2', '3']\n",
      "['4', '5', '6']\n",
      "['7', '8', '9']\n"
     ]
    }
   ],
   "source": [
    "display_board()"
   ]
  },
  {
   "cell_type": "code",
   "execution_count": null,
   "metadata": {},
   "outputs": [],
   "source": [
    "]"
   ]
  }
 ],
 "metadata": {
  "kernelspec": {
   "display_name": "Python 3 (ipykernel)",
   "language": "python",
   "name": "python3"
  },
  "language_info": {
   "codemirror_mode": {
    "name": "ipython",
    "version": 3
   },
   "file_extension": ".py",
   "mimetype": "text/x-python",
   "name": "python",
   "nbconvert_exporter": "python",
   "pygments_lexer": "ipython3",
   "version": "3.9.10+"
  }
 },
 "nbformat": 4,
 "nbformat_minor": 2
}
