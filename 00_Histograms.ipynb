{
 "cells": [
  {
   "cell_type": "code",
   "execution_count": 1,
   "id": "71861d7d",
   "metadata": {},
   "outputs": [],
   "source": [
    "import numpy as np\n",
    "from numpy.random import randn\n",
    "import pandas as pd\n",
    "\n",
    "# Import the stats librayr from numpy\n",
    "from scipy import stats\n",
    "\n",
    "# These are the plotting modules\n",
    "import matplotlib as mpl\n",
    "import matplotlib.pyplot as plt\n",
    "import seaborn as sns\n",
    "\n",
    "# Command so that plots appear in the iPython Notebook\n",
    "%matplotlib inline"
   ]
  },
  {
   "cell_type": "code",
   "execution_count": 11,
   "id": "93b1b138",
   "metadata": {},
   "outputs": [
    {
     "data": {
      "image/png": "[encoded data removed]",
      "text/plain": [
       "<Figure size 432x288 with 1 Axes>"
      ]
     },
     "metadata": {
      "needs_background": "light"
     },
     "output_type": "display_data"
    }
   ],
   "source": [
    "#Create a random normal-dist dataset\n",
    "dataset1 = randn(100)\n",
    "\n",
    "#Plot a histogram of the dataset, note bins=10 by default\n",
    "\n",
    "plt.hist(dataset1)\n",
    "plt.grid(axis='y')"
   ]
  },
  {
   "cell_type": "code",
   "execution_count": 12,
   "id": "0e9b1a25",
   "metadata": {},
   "outputs": [
    {
     "data": {
      "image/png": "[encoded data removed]",
      "text/plain": [
       "<Figure size 432x288 with 1 Axes>"
      ]
     },
     "metadata": {
      "needs_background": "light"
     },
     "output_type": "display_data"
    }
   ],
   "source": [
    "# Lets make another dataset\n",
    "dataset2 = randn(80)\n",
    "\n",
    "#Plot\n",
    "plt.hist(dataset2,color='indianred')\n",
    "plt.grid(axis='y')"
   ]
  },
  {
   "cell_type": "code",
   "execution_count": 14,
   "id": "142ef3e2",
   "metadata": {},
   "outputs": [
    {
     "data": {
      "text/plain": [
       "(array([0.11630384, 0.        , 0.11630384, 0.        , 0.17445576,\n",
       "        0.23260768, 0.34891151, 0.23260768, 0.17445576, 0.40706343,\n",
       "        0.63967111, 0.46521535, 0.46521535, 0.29075959, 0.34891151,\n",
       "        0.05815192, 0.34891151, 0.11630384, 0.05815192, 0.05815192]),\n",
       " array([-2.28270801, -2.06775379, -1.85279958, -1.63784537, -1.42289115,\n",
       "        -1.20793694, -0.99298272, -0.77802851, -0.5630743 , -0.34812008,\n",
       "        -0.13316587,  0.08178835,  0.29674256,  0.51169677,  0.72665099,\n",
       "         0.9416052 ,  1.15655942,  1.37151363,  1.58646784,  1.80142206,\n",
       "         2.01637627]),\n",
       " <BarContainer object of 20 artists>)"
      ]
     },
     "execution_count": 14,
     "metadata": {},
     "output_type": "execute_result"
    },
    {
     "data": {
      "image/png": "[encoded data removed]",
      "text/plain": [
       "<Figure size 432x288 with 1 Axes>"
      ]
     },
     "metadata": {
      "needs_background": "light"
     },
     "output_type": "display_data"
    }
   ],
   "source": [
    "#plot on same plot\n",
    "\n",
    "# Set density=True for the plots to be normalized in order to comapre data sets with different number of observations\n",
    "# Set alpha=0.5 for transperancy\n",
    "\n",
    "plt.hist(dataset1,density=True,color='indianred',alpha=0.5,bins=20)\n",
    "plt.hist(dataset2,density=True,alpha=0.5,bins=20)"
   ]
  },
  {
   "cell_type": "code",
   "execution_count": null,
   "id": "988633c5",
   "metadata": {},
   "outputs": [],
   "source": []
  }
 ],
 "metadata": {
  "kernelspec": {
   "display_name": "Python 3 (ipykernel)",
   "language": "python",
   "name": "python3"
  },
  "language_info": {
   "codemirror_mode": {
    "name": "ipython",
    "version": 3
   },
   "file_extension": ".py",
   "mimetype": "text/x-python",
   "name": "python",
   "nbconvert_exporter": "python",
   "pygments_lexer": "ipython3",
   "version": "3.9.7"
  }
 },
 "nbformat": 4,
 "nbformat_minor": 5
}
